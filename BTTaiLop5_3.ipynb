{
  "nbformat": 4,
  "nbformat_minor": 0,
  "metadata": {
    "colab": {
      "provenance": [],
      "authorship_tag": "ABX9TyMNfBHe/CoiuTNUxkA93nrt",
      "include_colab_link": true
    },
    "kernelspec": {
      "name": "python3",
      "display_name": "Python 3"
    },
    "language_info": {
      "name": "python"
    }
  },
  "cells": [
    {
      "cell_type": "markdown",
      "metadata": {
        "id": "view-in-github",
        "colab_type": "text"
      },
      "source": [
        "<a href=\"https://colab.research.google.com/github/nhoanh555/baitap5/blob/main/BTTaiLop5_3.ipynb\" target=\"_parent\"><img src=\"https://colab.research.google.com/assets/colab-badge.svg\" alt=\"Open In Colab\"/></a>"
      ]
    },
    {
      "cell_type": "code",
      "execution_count": 2,
      "metadata": {
        "id": "Xf89CoH2rhZU"
      },
      "outputs": [],
      "source": [
        "#1\n",
        "A = set(['NNLT Python', 'Đại số tuyến tính', 'Tiếng Anh chuyên ngành', 'Thể dục'])\n",
        "B = set(['NNLT Python', 'Đại số tuyến tính', 'Tối ưu hóa', 'Học Máy', 'Học sâu', 'Computer vision', 'Natural Language Processing', 'Recommender Systems'])"
      ]
    },
    {
      "cell_type": "code",
      "source": [
        "#2\n",
        "print(A)\n",
        "print(B)"
      ],
      "metadata": {
        "colab": {
          "base_uri": "https://localhost:8080/"
        },
        "id": "oiDkasaatr-N",
        "outputId": "7dc7058c-04e0-41ca-df7b-a3a7e07fbc08"
      },
      "execution_count": 3,
      "outputs": [
        {
          "output_type": "stream",
          "name": "stdout",
          "text": [
            "{'NNLT Python', 'Đại số tuyến tính', 'Tiếng Anh chuyên ngành', 'Thể dục'}\n",
            "{'NNLT Python', 'Tối ưu hóa', 'Học sâu', 'Học Máy', 'Computer vision', 'Recommender Systems', 'Đại số tuyến tính', 'Natural Language Processing'}\n"
          ]
        }
      ]
    },
    {
      "cell_type": "code",
      "source": [
        "#3\n",
        "Hop = A.union(B)\n",
        "print(Hop)"
      ],
      "metadata": {
        "colab": {
          "base_uri": "https://localhost:8080/"
        },
        "id": "DSBaIpIQtzWT",
        "outputId": "32faf4ef-b899-4afd-d19e-888072657000"
      },
      "execution_count": 4,
      "outputs": [
        {
          "output_type": "stream",
          "name": "stdout",
          "text": [
            "{'NNLT Python', 'Tối ưu hóa', 'Thể dục', 'Học sâu', 'Học Máy', 'Computer vision', 'Recommender Systems', 'Đại số tuyến tính', 'Natural Language Processing', 'Tiếng Anh chuyên ngành'}\n"
          ]
        }
      ]
    },
    {
      "cell_type": "code",
      "source": [
        "#4\n",
        "Giao = A.intersection(B)\n",
        "print(Giao)"
      ],
      "metadata": {
        "colab": {
          "base_uri": "https://localhost:8080/"
        },
        "id": "izmRUJc8uR-r",
        "outputId": "2ad5ba5f-864e-4a2d-a662-01229fbdfca8"
      },
      "execution_count": 5,
      "outputs": [
        {
          "output_type": "stream",
          "name": "stdout",
          "text": [
            "{'NNLT Python', 'Đại số tuyến tính'}\n"
          ]
        }
      ]
    },
    {
      "cell_type": "code",
      "source": [
        "#5\n",
        "AtruB = A.difference(B)\n",
        "BtruA = B.difference(A)\n",
        "print(AtruB)\n",
        "print(BtruA)"
      ],
      "metadata": {
        "colab": {
          "base_uri": "https://localhost:8080/"
        },
        "id": "V-SXqKKEumAd",
        "outputId": "60ee4650-699b-4641-f5bf-e0fda62e6daf"
      },
      "execution_count": 6,
      "outputs": [
        {
          "output_type": "stream",
          "name": "stdout",
          "text": [
            "{'Tiếng Anh chuyên ngành', 'Thể dục'}\n",
            "{'Tối ưu hóa', 'Học sâu', 'Học Máy', 'Computer vision', 'Recommender Systems', 'Natural Language Processing'}\n"
          ]
        }
      ]
    },
    {
      "cell_type": "code",
      "source": [
        "#6\n",
        "x = [1,1,1,2,2,3,3,3,4,5,6,7]\n",
        "print(x)"
      ],
      "metadata": {
        "colab": {
          "base_uri": "https://localhost:8080/"
        },
        "id": "rqYLp0gTvNas",
        "outputId": "09cf3303-ac6d-4883-9680-9b8f7d4a05f3"
      },
      "execution_count": 7,
      "outputs": [
        {
          "output_type": "stream",
          "name": "stdout",
          "text": [
            "[1, 1, 1, 2, 2, 3, 3, 3, 4, 5, 6, 7]\n"
          ]
        }
      ]
    },
    {
      "cell_type": "code",
      "source": [
        "set(x)\n",
        "print(set(x))"
      ],
      "metadata": {
        "colab": {
          "base_uri": "https://localhost:8080/"
        },
        "id": "F5bB5i1RvZc0",
        "outputId": "efc1663d-1415-459f-a94f-c2757874fb86"
      },
      "execution_count": 10,
      "outputs": [
        {
          "output_type": "stream",
          "name": "stdout",
          "text": [
            "{1, 2, 3, 4, 5, 6, 7}\n"
          ]
        }
      ]
    }
  ]
}